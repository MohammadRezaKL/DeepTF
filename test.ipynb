{
  "nbformat": 4,
  "nbformat_minor": 0,
  "metadata": {
    "accelerator": "GPU",
    "colab": {
      "name": "test.ipynb",
      "provenance": [],
      "collapsed_sections": []
    },
    "kernelspec": {
      "display_name": "Python 3",
      "name": "python3"
    },
    "language_info": {
      "name": "python"
    }
  },
  "cells": [
    {
      "cell_type": "code",
      "metadata": {
        "id": "qapObWbs5TJK"
      },
      "source": [
        "import numpy as np\n",
        "import h5py\n",
        "import scipy.io\n",
        "from sklearn import metrics\n",
        "import pandas as pd\n",
        "import os\n",
        "os.environ['THEANO_FLAGS'] = \"device=cuda0,force_device=True,floatX=float32,gpuarray.preallocate=0.3\"\n",
        "import theano\n",
        "print(theano.config.device)\n",
        "from keras.layers import Embedding\n",
        "from keras.models import Sequential\n",
        "from keras.models import Model\n",
        "from keras.layers import Dense, Dropout, Activation, Flatten, Layer, merge, Input, Concatenate, Reshape, concatenate,Lambda,multiply,Permute,Reshape,RepeatVector\n",
        "from keras.layers.convolutional import Conv1D, MaxPooling1D\n",
        "from keras.layers.pooling import GlobalMaxPooling1D\n",
        "from keras.layers.recurrent import LSTM\n",
        "from keras.layers.wrappers import Bidirectional, TimeDistributed\n",
        "from keras.models import load_model\n",
        "from keras.callbacks import ModelCheckpoint, EarlyStopping\n",
        "from keras import optimizers\n",
        "from keras import backend as K\n",
        "from keras import regularizers\n",
        "from keras.layers import GRU\n",
        " \n",
        "import tensorflow as tf\n",
        "from tensorflow import keras\n",
        "from tensorflow.keras import layers"
      ],
      "execution_count": null,
      "outputs": []
    },
    {
      "cell_type": "code",
      "metadata": {
        "id": "maaX-42SKydf"
      },
      "source": [
        "testmat = scipy.io.loadmat('/content/deepsea_train/test.mat')\n",
        "model = load_model(\"/content/model/DeepTF.h5\")\n",
        "print('model summary')\n",
        "model.summary()"
      ],
      "execution_count": null,
      "outputs": []
    },
    {
      "cell_type": "code",
      "metadata": {
        "id": "lMq9qX8zK57Y"
      },
      "source": [
        "def get_auroc(preds, obs):\n",
        "    fpr, tpr, thresholds  = metrics.roc_curve(obs, preds, drop_intermediate=False)\n",
        "    auroc = metrics.auc(fpr,tpr)\n",
        "    return auroc\n",
        "\n",
        "def get_aupr(preds, obs):\n",
        "    precision, recall, thresholds  = metrics.precision_recall_curve(obs, preds)\n",
        "    aupr = metrics.auc(recall,precision)\n",
        "    return aupr\n",
        "\n",
        "def get_aurocs_and_auprs(tpreds, tobs):\n",
        "    tpreds_df = pd.DataFrame(tpreds)\n",
        "    tobs_df = pd.DataFrame(tobs)\n",
        "    \n",
        "    task_list = []\n",
        "    auroc_list = []\n",
        "    aupr_list = []\n",
        "    for task in tpreds_df:\n",
        "        pred = tpreds_df[task]\n",
        "        obs = tobs_df[task]\n",
        "        auroc=round(get_auroc(pred,obs),5)\n",
        "        aupr = round(get_aupr(pred,obs),5)\n",
        "        task_list.append(task)\n",
        "        auroc_list.append(auroc)\n",
        "        aupr_list.append(aupr)\n",
        "    return auroc_list, aupr_list"
      ],
      "execution_count": null,
      "outputs": []
    },
    {
      "cell_type": "code",
      "metadata": {
        "id": "nVA79OccK-TS"
      },
      "source": [
        "import time\n",
        "starter = time.time()\n",
        "tpreds = model.predict(np.transpose(testmat['testxdata'],axes=(0,2,1)),verbose=1)\n",
        "print(starter - time.time())\n",
        "tpreds_temp = np.copy(tpreds)\n",
        "reverse_start_id = int(testmat['testdata'][:,125:815].shape[0]/2)\n",
        "\n",
        "for i in range(reverse_start_id):\n",
        "    tpreds_avg_temp = (tpreds_temp[i] + tpreds_temp[reverse_start_id+i])/2.0\n",
        "    tpreds_temp[i] = tpreds_avg_temp\n",
        "    tpreds_temp[reverse_start_id+i] = tpreds_avg_temp\n",
        "\n",
        "\n",
        "aurocs, auprs = get_aurocs_and_auprs(tpreds_temp,testmat['testdata'][:,125:815])\n",
        "print(\"Averaged AUROC:\",np.nanmean(aurocs))\n",
        "print(\"Averaged AUPR:\", np.nanmean(auprs))"
      ],
      "execution_count": null,
      "outputs": []
    }
  ]
}